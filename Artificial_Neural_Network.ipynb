{
  "nbformat": 4,
  "nbformat_minor": 0,
  "metadata": {
    "colab": {
      "name": "Artificial_Neural_Network.ipynb",
      "provenance": []
    },
    "kernelspec": {
      "name": "python3",
      "display_name": "Python 3"
    }
  },
  "cells": [
    {
      "cell_type": "code",
      "metadata": {
        "id": "eqi5aKmxuNQk"
      },
      "source": [
        "import numpy as np\n",
        "import pandas as pd\n",
        "import tensorflow as tf"
      ],
      "execution_count": 1,
      "outputs": []
    },
    {
      "cell_type": "code",
      "metadata": {
        "id": "kxGipX2xuT56",
        "outputId": "369bb7d4-50f9-4930-c69c-b229a4a1cfea",
        "colab": {
          "base_uri": "https://localhost:8080/",
          "height": 35
        }
      },
      "source": [
        "tf.__version__"
      ],
      "execution_count": 2,
      "outputs": [
        {
          "output_type": "execute_result",
          "data": {
            "application/vnd.google.colaboratory.intrinsic+json": {
              "type": "string"
            },
            "text/plain": [
              "'2.3.0'"
            ]
          },
          "metadata": {
            "tags": []
          },
          "execution_count": 2
        }
      ]
    },
    {
      "cell_type": "code",
      "metadata": {
        "id": "EIUThjaCuZY_"
      },
      "source": [
        "dataset = pd.read_csv('Churn_Modelling.csv')\n",
        "X = dataset.iloc[:,3:-1].values\n",
        "Y= dataset.iloc[:,-1].values"
      ],
      "execution_count": 3,
      "outputs": []
    },
    {
      "cell_type": "code",
      "metadata": {
        "id": "_BI23EMEuqlI"
      },
      "source": [
        "from sklearn.preprocessing import LabelEncoder\n",
        "le = LabelEncoder()\n",
        "X[:,2] = le.fit_transform(X[:,2])"
      ],
      "execution_count": 4,
      "outputs": []
    },
    {
      "cell_type": "code",
      "metadata": {
        "id": "EufAd5DIu9Qu"
      },
      "source": [
        "from sklearn.preprocessing import OneHotEncoder\n",
        "from sklearn.compose import ColumnTransformer\n",
        "ct = ColumnTransformer(transformers=[('encoder',OneHotEncoder(),[1])],remainder='passthrough')\n",
        "X = np.array(ct.fit_transform(X))"
      ],
      "execution_count": 5,
      "outputs": []
    },
    {
      "cell_type": "code",
      "metadata": {
        "id": "N8IW9N5AvkG8"
      },
      "source": [
        "from sklearn.model_selection import train_test_split\n",
        "X_train,X_test,Y_train,Y_test = train_test_split(X,Y,test_size =0.20,random_state=0)"
      ],
      "execution_count": 6,
      "outputs": []
    },
    {
      "cell_type": "code",
      "metadata": {
        "id": "QjnYRL90v5v2"
      },
      "source": [
        "from sklearn.preprocessing import StandardScaler \n",
        "sc= StandardScaler()\n",
        "X_train = sc.fit_transform(X_train)\n",
        "X_test = sc.transform(X_test)"
      ],
      "execution_count": 7,
      "outputs": []
    },
    {
      "cell_type": "markdown",
      "metadata": {
        "id": "8hJs4X3nwSE6"
      },
      "source": [
        "Initializing ANN"
      ]
    },
    {
      "cell_type": "code",
      "metadata": {
        "id": "UVbNnAWCwJX6"
      },
      "source": [
        "ann = tf.keras.models.Sequential()"
      ],
      "execution_count": 8,
      "outputs": []
    },
    {
      "cell_type": "markdown",
      "metadata": {
        "id": "Bq3Iv6BtwXPw"
      },
      "source": [
        "Adding the input layer and first hidden layer"
      ]
    },
    {
      "cell_type": "code",
      "metadata": {
        "id": "jhT1mF-kwcaU"
      },
      "source": [
        "ann.add(tf.keras.layers.Dense(units=6,activation='relu'))"
      ],
      "execution_count": 9,
      "outputs": []
    },
    {
      "cell_type": "markdown",
      "metadata": {
        "id": "diZrtRCKw7i1"
      },
      "source": [
        "Adding Second Hidden Layer"
      ]
    },
    {
      "cell_type": "code",
      "metadata": {
        "id": "3vgXyJofwol7"
      },
      "source": [
        "ann.add(tf.keras.layers.Dense(units=6,activation='relu'))"
      ],
      "execution_count": 10,
      "outputs": []
    },
    {
      "cell_type": "markdown",
      "metadata": {
        "id": "LD2zSqwSw0cY"
      },
      "source": [
        "Adding the Output Layer"
      ]
    },
    {
      "cell_type": "code",
      "metadata": {
        "id": "ptaKCXRWw57L"
      },
      "source": [
        "ann.add(tf.keras.layers.Dense(units=1,activation='sigmoid'))"
      ],
      "execution_count": 11,
      "outputs": []
    },
    {
      "cell_type": "markdown",
      "metadata": {
        "id": "pp62HsDZxIwP"
      },
      "source": [
        "Trainning ANN"
      ]
    },
    {
      "cell_type": "markdown",
      "metadata": {
        "id": "dFNRwfiCxQkQ"
      },
      "source": [
        "Compiling ANN"
      ]
    },
    {
      "cell_type": "code",
      "metadata": {
        "id": "sANaFYjbxRhp"
      },
      "source": [
        "ann.compile(optimizer='adam',loss= 'binary_crossentropy',metrics=['accuracy'])"
      ],
      "execution_count": 12,
      "outputs": []
    },
    {
      "cell_type": "markdown",
      "metadata": {
        "id": "1BapmIdNxfUK"
      },
      "source": [
        "Trainnig AAN on the Trainning set"
      ]
    },
    {
      "cell_type": "code",
      "metadata": {
        "id": "GY1ENW9zxlBH",
        "outputId": "0852410c-89d2-43fe-e10a-4bbe506d576c",
        "colab": {
          "base_uri": "https://localhost:8080/",
          "height": 1000
        }
      },
      "source": [
        "ann.fit(X_train,Y_train,batch_size=32,epochs=100)"
      ],
      "execution_count": 13,
      "outputs": [
        {
          "output_type": "stream",
          "text": [
            "Epoch 1/100\n",
            "250/250 [==============================] - 0s 954us/step - loss: 0.5263 - accuracy: 0.7909\n",
            "Epoch 2/100\n",
            "250/250 [==============================] - 0s 904us/step - loss: 0.4671 - accuracy: 0.7960\n",
            "Epoch 3/100\n",
            "250/250 [==============================] - 0s 933us/step - loss: 0.4468 - accuracy: 0.7960\n",
            "Epoch 4/100\n",
            "250/250 [==============================] - 0s 911us/step - loss: 0.4350 - accuracy: 0.7960\n",
            "Epoch 5/100\n",
            "250/250 [==============================] - 0s 941us/step - loss: 0.4262 - accuracy: 0.7960\n",
            "Epoch 6/100\n",
            "250/250 [==============================] - 0s 986us/step - loss: 0.4175 - accuracy: 0.8120\n",
            "Epoch 7/100\n",
            "250/250 [==============================] - 0s 940us/step - loss: 0.4092 - accuracy: 0.8190\n",
            "Epoch 8/100\n",
            "250/250 [==============================] - 0s 913us/step - loss: 0.4012 - accuracy: 0.8276\n",
            "Epoch 9/100\n",
            "250/250 [==============================] - 0s 943us/step - loss: 0.3937 - accuracy: 0.8329\n",
            "Epoch 10/100\n",
            "250/250 [==============================] - 0s 951us/step - loss: 0.3859 - accuracy: 0.8376\n",
            "Epoch 11/100\n",
            "250/250 [==============================] - 0s 962us/step - loss: 0.3790 - accuracy: 0.8429\n",
            "Epoch 12/100\n",
            "250/250 [==============================] - 0s 903us/step - loss: 0.3730 - accuracy: 0.8461\n",
            "Epoch 13/100\n",
            "250/250 [==============================] - 0s 920us/step - loss: 0.3676 - accuracy: 0.8495\n",
            "Epoch 14/100\n",
            "250/250 [==============================] - 0s 971us/step - loss: 0.3637 - accuracy: 0.8512\n",
            "Epoch 15/100\n",
            "250/250 [==============================] - 0s 944us/step - loss: 0.3601 - accuracy: 0.8537\n",
            "Epoch 16/100\n",
            "250/250 [==============================] - 0s 913us/step - loss: 0.3577 - accuracy: 0.8537\n",
            "Epoch 17/100\n",
            "250/250 [==============================] - 0s 972us/step - loss: 0.3555 - accuracy: 0.8566\n",
            "Epoch 18/100\n",
            "250/250 [==============================] - 0s 947us/step - loss: 0.3539 - accuracy: 0.8580\n",
            "Epoch 19/100\n",
            "250/250 [==============================] - 0s 910us/step - loss: 0.3527 - accuracy: 0.8593\n",
            "Epoch 20/100\n",
            "250/250 [==============================] - 0s 909us/step - loss: 0.3516 - accuracy: 0.8595\n",
            "Epoch 21/100\n",
            "250/250 [==============================] - 0s 892us/step - loss: 0.3503 - accuracy: 0.8605\n",
            "Epoch 22/100\n",
            "250/250 [==============================] - 0s 916us/step - loss: 0.3497 - accuracy: 0.8618\n",
            "Epoch 23/100\n",
            "250/250 [==============================] - 0s 934us/step - loss: 0.3493 - accuracy: 0.8610\n",
            "Epoch 24/100\n",
            "250/250 [==============================] - 0s 923us/step - loss: 0.3484 - accuracy: 0.8621\n",
            "Epoch 25/100\n",
            "250/250 [==============================] - 0s 894us/step - loss: 0.3483 - accuracy: 0.8615\n",
            "Epoch 26/100\n",
            "250/250 [==============================] - 0s 952us/step - loss: 0.3475 - accuracy: 0.8616\n",
            "Epoch 27/100\n",
            "250/250 [==============================] - 0s 903us/step - loss: 0.3470 - accuracy: 0.8614\n",
            "Epoch 28/100\n",
            "250/250 [==============================] - 0s 972us/step - loss: 0.3467 - accuracy: 0.8618\n",
            "Epoch 29/100\n",
            "250/250 [==============================] - 0s 919us/step - loss: 0.3463 - accuracy: 0.8619\n",
            "Epoch 30/100\n",
            "250/250 [==============================] - 0s 917us/step - loss: 0.3457 - accuracy: 0.8635\n",
            "Epoch 31/100\n",
            "250/250 [==============================] - 0s 950us/step - loss: 0.3457 - accuracy: 0.8627\n",
            "Epoch 32/100\n",
            "250/250 [==============================] - 0s 922us/step - loss: 0.3451 - accuracy: 0.8616\n",
            "Epoch 33/100\n",
            "250/250 [==============================] - 0s 905us/step - loss: 0.3450 - accuracy: 0.8637\n",
            "Epoch 34/100\n",
            "250/250 [==============================] - 0s 926us/step - loss: 0.3448 - accuracy: 0.8624\n",
            "Epoch 35/100\n",
            "250/250 [==============================] - 0s 913us/step - loss: 0.3444 - accuracy: 0.8625\n",
            "Epoch 36/100\n",
            "250/250 [==============================] - 0s 905us/step - loss: 0.3443 - accuracy: 0.8631\n",
            "Epoch 37/100\n",
            "250/250 [==============================] - 0s 952us/step - loss: 0.3442 - accuracy: 0.8622\n",
            "Epoch 38/100\n",
            "250/250 [==============================] - 0s 918us/step - loss: 0.3435 - accuracy: 0.8627\n",
            "Epoch 39/100\n",
            "250/250 [==============================] - 0s 1ms/step - loss: 0.3435 - accuracy: 0.8614\n",
            "Epoch 40/100\n",
            "250/250 [==============================] - 0s 903us/step - loss: 0.3435 - accuracy: 0.8612\n",
            "Epoch 41/100\n",
            "250/250 [==============================] - 0s 882us/step - loss: 0.3435 - accuracy: 0.8633\n",
            "Epoch 42/100\n",
            "250/250 [==============================] - 0s 891us/step - loss: 0.3429 - accuracy: 0.8636\n",
            "Epoch 43/100\n",
            "250/250 [==============================] - 0s 915us/step - loss: 0.3432 - accuracy: 0.8639\n",
            "Epoch 44/100\n",
            "250/250 [==============================] - 0s 911us/step - loss: 0.3431 - accuracy: 0.8627\n",
            "Epoch 45/100\n",
            "250/250 [==============================] - 0s 913us/step - loss: 0.3426 - accuracy: 0.8624\n",
            "Epoch 46/100\n",
            "250/250 [==============================] - 0s 972us/step - loss: 0.3425 - accuracy: 0.8639\n",
            "Epoch 47/100\n",
            "250/250 [==============================] - 0s 904us/step - loss: 0.3422 - accuracy: 0.8640\n",
            "Epoch 48/100\n",
            "250/250 [==============================] - 0s 947us/step - loss: 0.3427 - accuracy: 0.8629\n",
            "Epoch 49/100\n",
            "250/250 [==============================] - 0s 886us/step - loss: 0.3421 - accuracy: 0.8635\n",
            "Epoch 50/100\n",
            "250/250 [==============================] - 0s 898us/step - loss: 0.3422 - accuracy: 0.8629\n",
            "Epoch 51/100\n",
            "250/250 [==============================] - 0s 1ms/step - loss: 0.3420 - accuracy: 0.8640\n",
            "Epoch 52/100\n",
            "250/250 [==============================] - 0s 965us/step - loss: 0.3420 - accuracy: 0.8634\n",
            "Epoch 53/100\n",
            "250/250 [==============================] - 0s 997us/step - loss: 0.3416 - accuracy: 0.8633\n",
            "Epoch 54/100\n",
            "250/250 [==============================] - 0s 1ms/step - loss: 0.3419 - accuracy: 0.8641\n",
            "Epoch 55/100\n",
            "250/250 [==============================] - 0s 958us/step - loss: 0.3417 - accuracy: 0.8641\n",
            "Epoch 56/100\n",
            "250/250 [==============================] - 0s 941us/step - loss: 0.3412 - accuracy: 0.8643\n",
            "Epoch 57/100\n",
            "250/250 [==============================] - 0s 902us/step - loss: 0.3411 - accuracy: 0.8650\n",
            "Epoch 58/100\n",
            "250/250 [==============================] - 0s 1ms/step - loss: 0.3413 - accuracy: 0.8650\n",
            "Epoch 59/100\n",
            "250/250 [==============================] - 0s 941us/step - loss: 0.3410 - accuracy: 0.8634\n",
            "Epoch 60/100\n",
            "250/250 [==============================] - 0s 928us/step - loss: 0.3412 - accuracy: 0.8630\n",
            "Epoch 61/100\n",
            "250/250 [==============================] - 0s 902us/step - loss: 0.3409 - accuracy: 0.8624\n",
            "Epoch 62/100\n",
            "250/250 [==============================] - 0s 969us/step - loss: 0.3408 - accuracy: 0.8636\n",
            "Epoch 63/100\n",
            "250/250 [==============================] - 0s 905us/step - loss: 0.3408 - accuracy: 0.8625\n",
            "Epoch 64/100\n",
            "250/250 [==============================] - 0s 967us/step - loss: 0.3406 - accuracy: 0.8644\n",
            "Epoch 65/100\n",
            "250/250 [==============================] - 0s 908us/step - loss: 0.3400 - accuracy: 0.8634\n",
            "Epoch 66/100\n",
            "250/250 [==============================] - 0s 915us/step - loss: 0.3409 - accuracy: 0.8639\n",
            "Epoch 67/100\n",
            "250/250 [==============================] - 0s 897us/step - loss: 0.3402 - accuracy: 0.8639\n",
            "Epoch 68/100\n",
            "250/250 [==============================] - 0s 950us/step - loss: 0.3403 - accuracy: 0.8627\n",
            "Epoch 69/100\n",
            "250/250 [==============================] - 0s 972us/step - loss: 0.3403 - accuracy: 0.8635\n",
            "Epoch 70/100\n",
            "250/250 [==============================] - 0s 935us/step - loss: 0.3402 - accuracy: 0.8631\n",
            "Epoch 71/100\n",
            "250/250 [==============================] - 0s 957us/step - loss: 0.3399 - accuracy: 0.8631\n",
            "Epoch 72/100\n",
            "250/250 [==============================] - 0s 921us/step - loss: 0.3401 - accuracy: 0.8629\n",
            "Epoch 73/100\n",
            "250/250 [==============================] - 0s 960us/step - loss: 0.3405 - accuracy: 0.8635\n",
            "Epoch 74/100\n",
            "250/250 [==============================] - 0s 900us/step - loss: 0.3398 - accuracy: 0.8643\n",
            "Epoch 75/100\n",
            "250/250 [==============================] - 0s 921us/step - loss: 0.3397 - accuracy: 0.8636\n",
            "Epoch 76/100\n",
            "250/250 [==============================] - 0s 925us/step - loss: 0.3399 - accuracy: 0.8630\n",
            "Epoch 77/100\n",
            "250/250 [==============================] - 0s 962us/step - loss: 0.3394 - accuracy: 0.8646\n",
            "Epoch 78/100\n",
            "250/250 [==============================] - 0s 947us/step - loss: 0.3398 - accuracy: 0.8640\n",
            "Epoch 79/100\n",
            "250/250 [==============================] - 0s 940us/step - loss: 0.3393 - accuracy: 0.8634\n",
            "Epoch 80/100\n",
            "250/250 [==============================] - 0s 902us/step - loss: 0.3395 - accuracy: 0.8639\n",
            "Epoch 81/100\n",
            "250/250 [==============================] - 0s 1ms/step - loss: 0.3396 - accuracy: 0.8639\n",
            "Epoch 82/100\n",
            "250/250 [==============================] - 0s 895us/step - loss: 0.3395 - accuracy: 0.8637\n",
            "Epoch 83/100\n",
            "250/250 [==============================] - 0s 1ms/step - loss: 0.3393 - accuracy: 0.8627\n",
            "Epoch 84/100\n",
            "250/250 [==============================] - 0s 1ms/step - loss: 0.3394 - accuracy: 0.8630\n",
            "Epoch 85/100\n",
            "250/250 [==============================] - 0s 1ms/step - loss: 0.3389 - accuracy: 0.8633\n",
            "Epoch 86/100\n",
            "250/250 [==============================] - 0s 982us/step - loss: 0.3394 - accuracy: 0.8624\n",
            "Epoch 87/100\n",
            "250/250 [==============================] - 0s 1ms/step - loss: 0.3387 - accuracy: 0.8633\n",
            "Epoch 88/100\n",
            "250/250 [==============================] - 0s 1ms/step - loss: 0.3390 - accuracy: 0.8630\n",
            "Epoch 89/100\n",
            "250/250 [==============================] - 0s 982us/step - loss: 0.3392 - accuracy: 0.8649\n",
            "Epoch 90/100\n",
            "250/250 [==============================] - 0s 923us/step - loss: 0.3390 - accuracy: 0.8637\n",
            "Epoch 91/100\n",
            "250/250 [==============================] - 0s 974us/step - loss: 0.3390 - accuracy: 0.8648\n",
            "Epoch 92/100\n",
            "250/250 [==============================] - 0s 910us/step - loss: 0.3384 - accuracy: 0.8625\n",
            "Epoch 93/100\n",
            "250/250 [==============================] - 0s 960us/step - loss: 0.3390 - accuracy: 0.8621\n",
            "Epoch 94/100\n",
            "250/250 [==============================] - 0s 1ms/step - loss: 0.3387 - accuracy: 0.8640\n",
            "Epoch 95/100\n",
            "250/250 [==============================] - 0s 918us/step - loss: 0.3382 - accuracy: 0.8630\n",
            "Epoch 96/100\n",
            "250/250 [==============================] - 0s 933us/step - loss: 0.3388 - accuracy: 0.8634\n",
            "Epoch 97/100\n",
            "250/250 [==============================] - 0s 1ms/step - loss: 0.3386 - accuracy: 0.8644\n",
            "Epoch 98/100\n",
            "250/250 [==============================] - 0s 941us/step - loss: 0.3384 - accuracy: 0.8631\n",
            "Epoch 99/100\n",
            "250/250 [==============================] - 0s 923us/step - loss: 0.3380 - accuracy: 0.8631\n",
            "Epoch 100/100\n",
            "250/250 [==============================] - 0s 961us/step - loss: 0.3383 - accuracy: 0.8641\n"
          ],
          "name": "stdout"
        },
        {
          "output_type": "execute_result",
          "data": {
            "text/plain": [
              "<tensorflow.python.keras.callbacks.History at 0x7f884bbc3f60>"
            ]
          },
          "metadata": {
            "tags": []
          },
          "execution_count": 13
        }
      ]
    },
    {
      "cell_type": "code",
      "metadata": {
        "id": "z3mUNmcM1RKj"
      },
      "source": [
        "Y_pred = ann.predict(X_test)\n",
        "Y_pred = (Y_pred > 0.5)\n"
      ],
      "execution_count": 14,
      "outputs": []
    },
    {
      "cell_type": "markdown",
      "metadata": {
        "id": "IviAeiaG1nd1"
      },
      "source": [
        "Confusion Matrix"
      ]
    },
    {
      "cell_type": "code",
      "metadata": {
        "id": "TVhyVMfF1pMe",
        "outputId": "0ab4b118-a3ab-4bd4-ff36-9efbaba0cefd",
        "colab": {
          "base_uri": "https://localhost:8080/",
          "height": 67
        }
      },
      "source": [
        "from sklearn.metrics import confusion_matrix,accuracy_score\n",
        "cm = confusion_matrix(Y_test,Y_pred)\n",
        "print(cm)\n",
        "accuracy_score(Y_test,Y_pred)"
      ],
      "execution_count": 15,
      "outputs": [
        {
          "output_type": "stream",
          "text": [
            "[[1509   86]\n",
            " [ 197  208]]\n"
          ],
          "name": "stdout"
        },
        {
          "output_type": "execute_result",
          "data": {
            "text/plain": [
              "0.8585"
            ]
          },
          "metadata": {
            "tags": []
          },
          "execution_count": 15
        }
      ]
    }
  ]
}